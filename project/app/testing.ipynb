{
 "cells": [
  {
   "cell_type": "code",
   "execution_count": null,
   "metadata": {},
   "outputs": [],
   "source": [
    "from langchain.embeddings.sentence_transformer import SentenceTransformerEmbeddings\n",
    "from langchain.vectorstores import Chroma\n",
    "\n",
    "db_persist_directory = \"./project/ergologs_data/db\"\n",
    "\n",
    "# OpenAI embeddings\n",
    "embedding_function = SentenceTransformerEmbeddings(model_name=\"all-MiniLM-L6-v2\")\n",
    "\n",
    "vectordb = Chroma(\n",
    "    persist_directory=db_persist_directory, embedding_function=embedding_function\n",
    ")\n",
    "retriever = vectordb.as_retriever(search_type=\"mmr\", search_kwargs={\"k\": k})\n",
    "\n",
    "print(retriever.get_relevant_documents(\"Health benefits of green tea?\"))"
   ]
  }
 ],
 "metadata": {
  "kernelspec": {
   "display_name": "ergo",
   "language": "python",
   "name": "python3"
  },
  "language_info": {
   "name": "python",
   "version": "3.10.11 (main, May 15 2023, 19:29:30) [Clang 14.0.6 ]"
  },
  "orig_nbformat": 4,
  "vscode": {
   "interpreter": {
    "hash": "c260e3ce25ff06bf9679159a61cf6dc22ee81bd7ee7dee72373e1a9f947755c6"
   }
  }
 },
 "nbformat": 4,
 "nbformat_minor": 2
}
